from flask import Flask, request, jsonify
import pandas as pd
import numpy as np
import math
import matplotlib.pyplot as plt
from sklearn.preprocessing import LabelEncoder
from sklearn.metrics import mean_absolute_error
from sklearn.linear_model import LinearRegression
from sklearn.model_selection import train_test_split
from google.colab import files

# Initialize Flask app
app = Flask(__name__)

# Sample data for the ML model (use your own dataset or CSV file)
data = pd.DataFrame({
    'feature1': np.random.rand(100),
    'feature2': np.random.rand(100),
    'target': np.random.rand(100) * 10
})

# Log transformation function
def log_transform(df, col_name):
    df[col_name] = df[col_name].apply(lambda x: math.log(x + 1))
    return df

# Skewness calculation function
def calculate_skewness(df, col_name):
    return df[col_name].skew()

@app.route('/train', methods=['POST'])
def train_model():
    # Log transform the target column
    data_transformed = log_transform(data.copy(), 'target')
    
    # Split the data into train and test sets
    X = data_transformed[['feature1', 'feature2']]
    y = data_transformed['target']
    X_train, X_test, y_train, y_test = train_test_split(X, y, test_size=0.2, random_state=42)
    
    # Train a simple linear regression model
    model = LinearRegression()
    model.fit(X_train, y_train)
    
    # Make predictions and calculate mean absolute error
    predictions = model.predict(X_test)
    mae = mean_absolute_error(y_test, predictions)
    
    # Plot results
    plt.scatter(y_test, predictions)
    plt.xlabel('Actual values')
    plt.ylabel('Predicted values')
    plt.title('Actual vs Predicted')
    plt.savefig('predictions_plot.png')

    # Provide the file for download
    files.download('predictions_plot.png')
    
    return jsonify({'message': 'Model trained successfully, plot saved and file ready for download.', 'mae': mae})

if __name__ == '__main__':
    app.run(debug=True, use_reloader=False, port=5000)
